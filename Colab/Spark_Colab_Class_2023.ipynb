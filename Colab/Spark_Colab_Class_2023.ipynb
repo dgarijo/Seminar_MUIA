{
  "cells": [
    {
      "cell_type": "markdown",
      "metadata": {
        "id": "BXM2E63BHJms"
      },
      "source": [
        "# Connecting Google Drive to Colab"
      ]
    },
    {
      "cell_type": "markdown",
      "metadata": {
        "id": "wxTklRgJRuOR"
      },
      "source": [
        "Notebook created by Rosa Filgueira (https://github.com/rosafilgueira/Seminar_MUIA), materials adapted by Daniel Garijo"
      ]
    },
    {
      "cell_type": "code",
      "execution_count": null,
      "metadata": {
        "colab": {
          "base_uri": "https://localhost:8080/"
        },
        "id": "eSbb-qfwW0G3",
        "outputId": "0bb689f3-3e35-4aba-eab5-52e8e86ff69d"
      },
      "outputs": [
        {
          "name": "stdout",
          "output_type": "stream",
          "text": [
            "Mounted at /content/drive\n"
          ]
        }
      ],
      "source": [
        "from google.colab import drive\n",
        "drive.mount('/content/drive')"
      ]
    },
    {
      "cell_type": "markdown",
      "metadata": {
        "id": "cCi91jDVFybZ"
      },
      "source": [
        "# Installing Apache Spark"
      ]
    },
    {
      "cell_type": "code",
      "execution_count": null,
      "metadata": {
        "colab": {
          "base_uri": "https://localhost:8080/"
        },
        "id": "Xt2zOx2WfRo0",
        "outputId": "a17e5b93-534b-406a-8963-1a2ccbdd6711"
      },
      "outputs": [
        {
          "name": "stdout",
          "output_type": "stream",
          "text": [
            "Looking in indexes: https://pypi.org/simple, https://us-python.pkg.dev/colab-wheels/public/simple/\n",
            "Collecting pyspark\n",
            "  Downloading pyspark-3.3.0.tar.gz (281.3 MB)\n",
            "\u001b[K     |████████████████████████████████| 281.3 MB 43 kB/s \n",
            "\u001b[?25hCollecting py4j==0.10.9.5\n",
            "  Downloading py4j-0.10.9.5-py2.py3-none-any.whl (199 kB)\n",
            "\u001b[K     |████████████████████████████████| 199 kB 38.0 MB/s \n",
            "\u001b[?25hBuilding wheels for collected packages: pyspark\n",
            "  Building wheel for pyspark (setup.py) ... \u001b[?25l\u001b[?25hdone\n",
            "  Created wheel for pyspark: filename=pyspark-3.3.0-py2.py3-none-any.whl size=281764026 sha256=5f10269617aaf7a7b83c03eb5abc8d45f38786f2e9e00d0afdf5764da4e60a7f\n",
            "  Stored in directory: /root/.cache/pip/wheels/7a/8e/1b/f73a52650d2e5f337708d9f6a1750d451a7349a867f928b885\n",
            "Successfully built pyspark\n",
            "Installing collected packages: py4j, pyspark\n",
            "Successfully installed py4j-0.10.9.5 pyspark-3.3.0\n"
          ]
        }
      ],
      "source": [
        "!apt-get install openjdk-11-jdk-headless -qq > /dev/null\n",
        "!wget -q https://downloads.apache.org/spark/spark-3.3.2/spark-3.3.2-bin-hadoop3.tgz\n",
        "!tar xf spark-3.3.2-bin-hadoop3.tgz\n",
        "!pip install -q findspark\n",
        "!pip install pyspark"
      ]
    },
    {
      "cell_type": "code",
      "execution_count": null,
      "metadata": {
        "colab": {
          "base_uri": "https://localhost:8080/"
        },
        "id": "dtpWkOP8ghmM",
        "outputId": "691e8910-9a17-405f-d6dd-5bc09c95fa63"
      },
      "outputs": [
        {
          "name": "stdout",
          "output_type": "stream",
          "text": [
            "sample_data  spark-3.2.1-bin-hadoop3.2\tspark-3.2.1-bin-hadoop3.2.tgz\n"
          ]
        }
      ],
      "source": [
        "!ls"
      ]
    },
    {
      "cell_type": "code",
      "execution_count": null,
      "metadata": {
        "id": "Ag0Hrn8IRuOb"
      },
      "outputs": [],
      "source": [
        "!pyspark --version"
      ]
    },
    {
      "cell_type": "code",
      "execution_count": null,
      "metadata": {
        "colab": {
          "base_uri": "https://localhost:8080/",
          "height": 36
        },
        "id": "0MVlmq19gMcT",
        "outputId": "16c97046-f34e-4c5b-8e1d-84fd91254c45"
      },
      "outputs": [
        {
          "data": {
            "application/vnd.google.colaboratory.intrinsic+json": {
              "type": "string"
            },
            "text/plain": [
              "'/content/spark-3.2.1-bin-hadoop3.2'"
            ]
          },
          "execution_count": 2,
          "metadata": {},
          "output_type": "execute_result"
        }
      ],
      "source": [
        "import os\n",
        "os.environ[\"JAVA_HOME\"] = \"/usr/lib/jvm/java-11-openjdk-amd64\"\n",
        "os.environ[\"SPARK_HOME\"] = \"/content/spark-3.3.2-bin-hadoop3\"\n",
        "\n",
        "import findspark\n",
        "findspark.init()\n",
        "findspark.find()"
      ]
    },
    {
      "cell_type": "markdown",
      "metadata": {
        "id": "55fnH6fwFzgQ"
      },
      "source": [
        "# Creating an Apache Spark session"
      ]
    },
    {
      "cell_type": "code",
      "execution_count": null,
      "metadata": {
        "id": "qOo9iYya_X_t"
      },
      "outputs": [],
      "source": [
        "from pyspark.sql import SparkSession\n",
        "spark = SparkSession.builder \\\n",
        "    .master(\"local[*]\") \\\n",
        "    .appName(\"Learning_Spark\") \\\n",
        "    .getOrCreate()"
      ]
    },
    {
      "cell_type": "code",
      "execution_count": null,
      "metadata": {
        "colab": {
          "base_uri": "https://localhost:8080/",
          "height": 222
        },
        "id": "c80x16d_BnwI",
        "outputId": "ccedbf1d-8e59-4b89-bc96-4b3e6bc979f7"
      },
      "outputs": [
        {
          "data": {
            "text/html": [
              "\n",
              "            <div>\n",
              "                <p><b>SparkSession - in-memory</b></p>\n",
              "                \n",
              "        <div>\n",
              "            <p><b>SparkContext</b></p>\n",
              "\n",
              "            <p><a href=\"http://0a90885c82b6:4040\">Spark UI</a></p>\n",
              "\n",
              "            <dl>\n",
              "              <dt>Version</dt>\n",
              "                <dd><code>v3.2.1</code></dd>\n",
              "              <dt>Master</dt>\n",
              "                <dd><code>local[*]</code></dd>\n",
              "              <dt>AppName</dt>\n",
              "                <dd><code>Learning_Spark</code></dd>\n",
              "            </dl>\n",
              "        </div>\n",
              "        \n",
              "            </div>\n",
              "        "
            ],
            "text/plain": [
              "<pyspark.sql.session.SparkSession at 0x7f4d37c741d0>"
            ]
          },
          "execution_count": 6,
          "metadata": {},
          "output_type": "execute_result"
        }
      ],
      "source": [
        "spark"
      ]
    },
    {
      "cell_type": "code",
      "execution_count": null,
      "metadata": {
        "colab": {
          "base_uri": "https://localhost:8080/"
        },
        "id": "HYQk8K1_CW7F",
        "outputId": "f7e63dc2-b018-4e86-f285-d86b57df21e2"
      },
      "outputs": [
        {
          "name": "stdout",
          "output_type": "stream",
          "text": [
            "sample_data  spark-3.2.1-bin-hadoop3.2\tspark-3.2.1-bin-hadoop3.2.tgz\n"
          ]
        }
      ],
      "source": [
        "!ls"
      ]
    },
    {
      "cell_type": "markdown",
      "metadata": {
        "id": "DVqMudWkGGRk"
      },
      "source": [
        "# Creating my first RDDs  (following the exercise in class)"
      ]
    },
    {
      "cell_type": "markdown",
      "metadata": {
        "id": "iDxgk7PdRuOl"
      },
      "source": [
        "A simple way to create an RDD is to take an existing collection and load it into Spark by using the SparkContext's parallelize() method. We first start by creating a list of integers using Python's xrange() method. Following this, we create our first RDD by using the parallelize() method to load the list of numbers unto 8 partitions."
      ]
    },
    {
      "cell_type": "code",
      "execution_count": null,
      "metadata": {
        "id": "hGYurxu3RuOm"
      },
      "outputs": [],
      "source": [
        "# Create a list of one hundred integers\n",
        "numbers = range(1, 101)\n",
        "\n",
        "# Create an RDD by dividing the list unto 8 partitions\n",
        "numbersRDD = sc.parallelize(numbers, 8)"
      ]
    },
    {
      "cell_type": "markdown",
      "metadata": {
        "id": "K5rgXf7rRuOn"
      },
      "source": [
        "Each RDD has a unique identifier."
      ]
    },
    {
      "cell_type": "code",
      "execution_count": null,
      "metadata": {
        "id": "BqdgQnmARuOo"
      },
      "outputs": [],
      "source": [
        "# Display the id of the RDD\n",
        "numbersRDD.id()"
      ]
    },
    {
      "cell_type": "markdown",
      "metadata": {
        "id": "hP39Q_4ERuOp"
      },
      "source": [
        "A name can be set to provide a more meaningful way of identifying an RDD."
      ]
    },
    {
      "cell_type": "code",
      "execution_count": null,
      "metadata": {
        "id": "-89rZCSTRuOv"
      },
      "outputs": [],
      "source": [
        "# Set the name of the RDD\n",
        "numbersRDD.setName('Range of integers')\n",
        "\n",
        "# Print the name of the RDD\n",
        "print(numbersRDD.name())"
      ]
    },
    {
      "cell_type": "markdown",
      "metadata": {
        "id": "k5Pb6KwXRuOv"
      },
      "source": [
        "### Caching RDDs and simple actions\n",
        "Since we will be reusing the RDD many times, we ask Spark to cache the RDD in memory"
      ]
    },
    {
      "cell_type": "code",
      "execution_count": null,
      "metadata": {
        "id": "tfCba5aURuOv"
      },
      "outputs": [],
      "source": [
        "# Cache the RDD\n",
        "numbersRDD.cache()"
      ]
    },
    {
      "cell_type": "markdown",
      "metadata": {
        "id": "_kYxMGKXRuOw"
      },
      "source": [
        "For small datasets, we can use collect() to retrieve and view the entire RDD."
      ]
    },
    {
      "cell_type": "code",
      "execution_count": null,
      "metadata": {
        "id": "MQHPbEZpRuOw"
      },
      "outputs": [],
      "source": [
        "\n",
        "\n",
        "# Retrieve all the elements in the RDD to the driver program\n",
        "print(numbersRDD.collect())\n",
        "\n"
      ]
    },
    {
      "cell_type": "markdown",
      "metadata": {
        "id": "2MQOwc7jRuOx"
      },
      "source": [
        "Finally, let's verify that our RDD contains one hundred elements."
      ]
    },
    {
      "cell_type": "code",
      "execution_count": null,
      "metadata": {
        "id": "LVoe7zhqRuOx"
      },
      "outputs": [],
      "source": [
        "# Count the number of elements in the RDD\n",
        "numbersRDD.count()"
      ]
    },
    {
      "cell_type": "markdown",
      "metadata": {
        "id": "1Mj2UAgARuOy"
      },
      "source": [
        "### Simple transformations and actions\n",
        "(3a) Element-wise transformation using map\n",
        "\n",
        "We first look at map(), a transformation that applies a function to each element in the RDD. In this exercise, complete the function addOne, which increases an integer element by one. Following this, call map() on numbersRDD supplying the function addOne(). Notice how transformations do not mutate RDDs. Instead, they form new RDDs.\n"
      ]
    },
    {
      "cell_type": "code",
      "execution_count": null,
      "metadata": {
        "id": "Xy6HJJFYRuOy"
      },
      "outputs": [],
      "source": [
        "# EXERCISE Replace <FILL IN> with the proper code\n",
        "\n",
        "def addOne(number):\n",
        "    \"\"\" Increases a number by one\n",
        "    Args:\n",
        "        number (int): an integer to increase\n",
        "    Returns:\n",
        "        int: the number increased by one\n",
        "    \"\"\"\n",
        "    return <FILL IN>\n",
        "\n",
        "numbersIncreasedRDD = numbersRDD.map(<FILL IN>)\n",
        "\n",
        "# RDDs are immutable\n",
        "print(\"The id of numbersRDD is:\", numbersRDD.id())\n",
        "print(\"The id of numbersIncreasedRDD is: \", numbersIncreasedRDD.id())\n",
        "# Verify that the range of numbers have been increased by one\n",
        "print(\"The RDD contains the numbers:\", numbersIncreasedRDD.collect())"
      ]
    },
    {
      "cell_type": "markdown",
      "metadata": {
        "id": "4SGscyCyRuOz"
      },
      "source": [
        "### Lambda statements\n",
        "\n",
        "Next, repeat the same transformation, this time by supplying a lambda statement to map(). Lambda statements provide a convenient way of expressing short functions without defining a function body. A lambda statement takes a number of parameters and an expression, creating a function that returns the value of the expression: lambda parameters : expression(parameters)\n",
        "\n",
        "Next, repeat the transformation in (3a) using a lambda statement."
      ]
    },
    {
      "cell_type": "code",
      "execution_count": null,
      "metadata": {
        "id": "grb3pbY7RuOz"
      },
      "outputs": [],
      "source": [
        "# Replace <FILL IN> with the proper code\n",
        "\n",
        "# Increases each element by one using a lambda function\n",
        "numbersIncreasedRDD = numbersRDD.map(<FILL IN>)\n",
        "\n",
        "# Verify that the range of numbers have been increased by one\n",
        "print(numbersIncreasedRDD.collect())\n",
        "\n"
      ]
    },
    {
      "cell_type": "markdown",
      "metadata": {
        "id": "Zxa0c1ZdRuOz"
      },
      "source": [
        "### Additional transformations\n",
        "\n",
        "Very often it is desirable to remove erroneous elements or elements not required for the desired calculations. filter(), takes a function and retains the elements satisfying the supplied function. Next, try filtering out all the elements not evenly divisible by 2 using the filter() transformation together with a lambda function. Supply filter() with a lambda function that returns True for every input divisible by 2 and False otherwise.\n"
      ]
    },
    {
      "cell_type": "code",
      "execution_count": null,
      "metadata": {
        "id": "pkMv4JwwRuO0"
      },
      "outputs": [],
      "source": [
        "# Replace <FILL IN> with the a lambda function\n",
        "\n",
        "# Filters out all elements not evenly divisible by 2\n",
        "filteredNumbersRDD = numbersRDD.filter(<FILL IN>)\n",
        "\n",
        "# Print all elements evenly divisible by 2\n",
        "print(filteredNumbersRDD.collect())"
      ]
    },
    {
      "cell_type": "code",
      "execution_count": null,
      "metadata": {
        "id": "xytcB1LlRuO0"
      },
      "outputs": [],
      "source": [
        "\n",
        "\n",
        "# Test\n",
        "assert filteredNumbersRDD.count() == 50, \"The number of filtered elements is wrong!\"\n",
        "\n"
      ]
    },
    {
      "cell_type": "markdown",
      "metadata": {
        "id": "B5TLHE-tRuO1"
      },
      "source": [
        "Some functions, such as range(), return lists of elements. When applied to individual elements in an RDD, these will create a nested structure, which depending on the application may be undesirable. In these cases, flatMap() can be useful in 'flattening' the resulting structure.\n"
      ]
    },
    {
      "cell_type": "code",
      "execution_count": null,
      "metadata": {
        "id": "AyRC0yYFRuO1"
      },
      "outputs": [],
      "source": [
        "nestedRDD = sc.parallelize([1,2,3])\n",
        "\n",
        "print(nestedRDD.map(lambda x:range(x)).collect())\n",
        "print(nestedRDD.flatMap(lambda x:range(x)).collect())"
      ]
    },
    {
      "cell_type": "markdown",
      "metadata": {
        "id": "BkFkyX3PRuO2"
      },
      "source": [
        "Consider the difference between using map() and flatMap(). Notice how the output from map() contains nested lists, while the output from flatMap() has been \"flattened\" to a single list."
      ]
    },
    {
      "cell_type": "markdown",
      "metadata": {
        "id": "e47K7vAMRuO2"
      },
      "source": [
        "\n",
        "### Actions\n",
        "\n",
        "reduce() is a common action, which takes a function that operates on two elements and returns a new element of the same type. A common operation is to sum up the elements in an RDD using reduce(). Sum up the elements in the numbersRDD dataset. Lambda statements having more than one input element can be expressed as: lambda x1, x2, x3, ... : expression(x1, x2, x3, ...)\n"
      ]
    },
    {
      "cell_type": "code",
      "execution_count": null,
      "metadata": {
        "id": "SmXPrGilRuO2"
      },
      "outputs": [],
      "source": [
        "# Replace <FILL IN> with the proper code\n",
        "\n",
        "# Sum up the elements in numbersRDD\n",
        "numbersSum = numbersRDD.reduce(<FILL IN>)"
      ]
    },
    {
      "cell_type": "code",
      "execution_count": null,
      "metadata": {
        "id": "Bobx3XheRuO3"
      },
      "outputs": [],
      "source": [
        "# Test\n",
        "assert numbersSum == 5050, \"The sum is incorrect!\""
      ]
    },
    {
      "cell_type": "markdown",
      "metadata": {
        "id": "Few75ITmRuO3"
      },
      "source": [
        "In addition to using collect(), Spark provides a number of actions to retrieve a limited set of results.\n"
      ]
    },
    {
      "cell_type": "code",
      "execution_count": null,
      "metadata": {
        "id": "lOesFXgdRuO3"
      },
      "outputs": [],
      "source": [
        "print(numbersRDD.take(5))\n",
        "print(numbersRDD.first())\n",
        "print(numbersRDD.top(5))"
      ]
    },
    {
      "cell_type": "markdown",
      "metadata": {
        "id": "6qmUiVE7RuO4"
      },
      "source": [
        "While the results from take(), first(), and top() differ from one run to another, takeOrdered() returns results in a deterministic way. takeOrdered() by default returns results in natural order. Additionally, a function may be supplied to change the ordering as desired. For instance, to a list of numbers in descending order, the numbers can simply be negated by a lambda function.\n"
      ]
    },
    {
      "cell_type": "code",
      "execution_count": null,
      "metadata": {
        "id": "hHKNvnR5RuO4"
      },
      "outputs": [],
      "source": [
        "# Replace <FILL IN> with the proper code\n",
        "\n",
        "# Print the numbers in natural order\n",
        "print(numbersRDD.takeOrdered(5))\n",
        "\n",
        "# Supply a lambda function to return the elements in reversed order\n",
        "print(numbersRDD.takeOrdered(5 , <FILL IN>))\n"
      ]
    },
    {
      "cell_type": "markdown",
      "metadata": {
        "id": "Vsu_BLgYRuO4"
      },
      "source": [
        "### Chaining expressions\n",
        "\n",
        "Since transformations return new RDDs, it is possible to chain several calls of operations together to form a pipeline. E.g. it is possible to express such a chain as: RDD.transformation1().transformation2().action(). Below we show two ways of chaining, both ways perform the same operations and provide a more readable code."
      ]
    },
    {
      "cell_type": "code",
      "execution_count": null,
      "metadata": {
        "id": "kBNgU9FxRuO4"
      },
      "outputs": [],
      "source": [
        "numbersFiltered = numbersRDD.map(lambda x : x + 1).filter(lambda x : x < 10).collect()\n",
        "\n",
        "\n",
        "numbersFiltered = (numbersRDD\n",
        "                   .map(lambda x : x + 1)\n",
        "                   .filter(lambda x : x < 10)\n",
        "                   .collect())\n",
        "\n",
        "print(numbersFiltered)"
      ]
    },
    {
      "cell_type": "markdown",
      "metadata": {
        "id": "ov4m8oUQRuO5"
      },
      "source": [
        "### Now going back to the class example:"
      ]
    },
    {
      "cell_type": "code",
      "execution_count": null,
      "metadata": {
        "colab": {
          "base_uri": "https://localhost:8080/"
        },
        "id": "kzxhuDlUg7oP",
        "outputId": "a3df7677-a761-4a36-98b9-f3c04bde463c"
      },
      "outputs": [
        {
          "data": {
            "text/plain": [
              "19"
            ]
          },
          "execution_count": 16,
          "metadata": {},
          "output_type": "execute_result"
        }
      ],
      "source": [
        "file_path=\"./sample_data/\"\n",
        "sc = spark.sparkContext\n",
        "textFile = sc.textFile(file_path+\"README.md\")\n",
        "textFile.count()"
      ]
    },
    {
      "cell_type": "code",
      "execution_count": null,
      "metadata": {
        "id": "_PNOEX4sRuO5"
      },
      "outputs": [],
      "source": [
        "pythonlines = textFile.filter(lambda line:\"csv\" in line)\n",
        "pythonlines"
      ]
    },
    {
      "cell_type": "code",
      "execution_count": null,
      "metadata": {
        "id": "v_ABCUSLRuO6"
      },
      "outputs": [],
      "source": [
        "pythonlines.count()"
      ]
    },
    {
      "cell_type": "markdown",
      "metadata": {
        "id": "CYfsOaRcGToB"
      },
      "source": [
        "# WordCount\n",
        "In this final part of the exercise, we load a text file into Spark. We perform a simple tokenization of the text, splitting up lines to words. We remove punctuations, normalize the words, and remove empty elements to form an RDD of words."
      ]
    },
    {
      "cell_type": "code",
      "execution_count": null,
      "metadata": {
        "colab": {
          "base_uri": "https://localhost:8080/"
        },
        "id": "tiQf_D84Df1o",
        "outputId": "a66f7577-9429-4d23-da2f-bfc4a12964da"
      },
      "outputs": [
        {
          "name": "stdout",
          "output_type": "stream",
          "text": [
            "directory: 1\n",
            "datasets: 1\n",
            "*: 3\n",
            "`california_housing_data*.csv`: 1\n",
            "is: 4\n",
            "housing: 1\n",
            "1990: 1\n",
            "more: 1\n",
            "at:: 2\n",
            "https://developers.google.com/machine-learning/crash-course/california-housing-data-description: 1\n",
            "`mnist_*.csv`: 1\n",
            "of: 2\n",
            "[Anscombe's: 1\n",
            "was: 2\n",
            "originally: 1\n",
            "in: 2\n",
            "Anscombe,: 1\n",
            "F.: 1\n",
            "'Graphs: 1\n",
            "American: 1\n",
            "Statistician.: 1\n",
            "(1):: 1\n",
            "prepared: 1\n",
            "This: 1\n",
            "includes: 1\n",
            "a: 3\n",
            "few: 1\n",
            "sample: 2\n",
            "to: 1\n",
            "get: 1\n",
            "you: 1\n",
            "started.: 1\n",
            "California: 1\n",
            "data: 1\n",
            "from: 1\n",
            "the: 3\n",
            "US: 1\n",
            "Census;: 1\n",
            "information: 1\n",
            "available: 1\n",
            "small: 1\n",
            "[MNIST: 1\n",
            "database](https://en.wikipedia.org/wiki/MNIST_database),: 1\n",
            "which: 1\n",
            "described: 2\n",
            "http://yann.lecun.com/exdb/mnist/: 1\n",
            "`anscombe.json`: 1\n",
            "contains: 1\n",
            "copy: 2\n",
            "quartet](https://en.wikipedia.org/wiki/Anscombe%27s_quartet);: 1\n",
            "it: 1\n",
            "J.: 1\n",
            "(1973).: 1\n",
            "Statistical: 1\n",
            "Analysis'.: 1\n",
            "27: 1\n",
            "17-21.: 1\n",
            "JSTOR: 1\n",
            "2682899.: 1\n",
            "and: 1\n",
            "our: 1\n",
            "by: 1\n",
            "[vega_datasets: 1\n",
            "library](https://github.com/altair-viz/vega_datasets/blob/4f67bdaad10f45e3549984e17e1b3088c731503d/vega_datasets/_data/anscombe.json).: 1\n"
          ]
        }
      ],
      "source": [
        "wordCounts = textFile.flatMap(lambda line: line.split()).map(lambda word: (word, 1)).reduceByKey(lambda a, b: a+b)\n",
        "output=wordCounts.collect()\n",
        "for (word, count) in output:\n",
        "  print(\"%s: %i\" % (word, count))"
      ]
    },
    {
      "cell_type": "markdown",
      "metadata": {
        "id": "AvWShU9vRuO7"
      },
      "source": [
        "### Removing stop words\n",
        "\n",
        "In many cases when performing text analysis, it is often desirable to remove common words called 'stop words' such as 'the', 'a', and 'is'. Define a lambda function and apply a transformation that filters out the five stop words: 'the', 'and', 'i', 'to', and 'of'."
      ]
    },
    {
      "cell_type": "code",
      "execution_count": null,
      "metadata": {
        "id": "9NN5Fbk8RuO8"
      },
      "outputs": [],
      "source": [
        "# Replace <FILL IN> with the proper code\n",
        "\n",
        "filteredWordCount = wordCount.filter(<FILL IN>)\n",
        "\n",
        "print(filteredWordCount.count())\n",
        "\n",
        "print(filteredWordCount.take(30))"
      ]
    }
  ],
  "metadata": {
    "colab": {
      "provenance": [],
      "toc_visible": true
    },
    "kernelspec": {
      "display_name": "Python 3 (ipykernel)",
      "language": "python",
      "name": "python3"
    },
    "language_info": {
      "codemirror_mode": {
        "name": "ipython",
        "version": 3
      },
      "file_extension": ".py",
      "mimetype": "text/x-python",
      "name": "python",
      "nbconvert_exporter": "python",
      "pygments_lexer": "ipython3",
      "version": "3.10.9"
    }
  },
  "nbformat": 4,
  "nbformat_minor": 0
}