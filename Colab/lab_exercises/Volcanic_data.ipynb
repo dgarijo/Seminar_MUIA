{
  "cells": [
    {
      "cell_type": "markdown",
      "metadata": {
        "id": "view-in-github",
        "colab_type": "text"
      },
      "source": [
        "<a href=\"https://colab.research.google.com/github/rosafilgueira/Seminar_MUIA/blob/main/Colab/lab_exercises/Volcanic_data.ipynb\" target=\"_parent\"><img src=\"https://colab.research.google.com/assets/colab-badge.svg\" alt=\"Open In Colab\"/></a>"
      ]
    },
    {
      "cell_type": "markdown",
      "source": [
        "Preparing the enviroment"
      ],
      "metadata": {
        "id": "ixo2DL6HB1QI"
      }
    },
    {
      "cell_type": "code",
      "source": [
        "!git clone https://github.com/rosafilgueira/Seminar_MUIA.git\n",
        "!apt-get install openjdk-11-jdk-headless -qq > /dev/null\n",
        "!wget -q https://dlcdn.apache.org/spark/spark-3.2.1/spark-3.2.1-bin-hadoop3.2.tgz\n",
        "!tar xf spark-3.2.1-bin-hadoop3.2.tgz\n",
        "!pip install -q findspark\n",
        "!pip install pyspark\n",
        "\n",
        "from pyspark.sql import SparkSession\n",
        "spark = SparkSession.builder \\\n",
        "    .master(\"local[*]\") \\\n",
        "    .appName(\"Learning_Spark\") \\\n",
        "    .getOrCreate()\n",
        "sc = spark.sparkContext\n",
        "\n",
        "data_path=\"/content/Seminar_MUIA/lab_exercises/Volcano_Analysis/\""
      ],
      "metadata": {
        "id": "312KpTacBzdi"
      },
      "execution_count": null,
      "outputs": []
    },
    {
      "cell_type": "markdown",
      "metadata": {
        "id": "xrD7tU0zBqvh"
      },
      "source": [
        "\n",
        "## This notebook is for analysing VAAs - Volcanic Ash Advisories reports## \n",
        "\n",
        "Information   issued by a   Volcanic   Ash   Advisory   Center (VAAC)  concerning  the occurrence or expected  occurrence of volcanic  ash  that  may  affect the safety of aircraft operations. A VAA is a text message that identifies the volcano, time of eruption, observed position of the ash cloud, and the forecasted position of the ash. The\n",
        "VAA is not to be used as a warning message. \n",
        "\n",
        "In the file *vaac_total_line.json* we can find information from many VAAs emited by different VAACs ( one entry by report).  We are going to a _DataFame_ to load the data and get the schema.\n",
        "\n",
        "And we can explore/analyse different properties of the dataset:\n",
        "    * Visualize/analyze the colours_code (warning level) by selecting a particular volcano.   \n",
        "    * Number of reports for a particular volcano\n",
        "    * Plot the flight level of the ashes observed and erupted (e.g. fl_obs_cld_L1, fl_eruption_L1)"
      ]
    },
    {
      "cell_type": "code",
      "execution_count": null,
      "metadata": {
        "colab": {
          "base_uri": "https://localhost:8080/"
        },
        "id": "rFj71GG_Bqvh",
        "outputId": "4d6344a1-d514-4c32-a96b-2eaf3ec1352b"
      },
      "outputs": [
        {
          "output_type": "execute_result",
          "data": {
            "text/plain": [
              "DataFrame[colour_code: string, confirmed: bigint, file_name: string, fl_eruption_L1: string, fl_eruption_L2: string, fl_fcst_12hr_L1: string, fl_fcst_12hr_L2: string, fl_fcst_18hr_L1: string, fl_fcst_18hr_L2: string, fl_fcst_6hr_L1: string, fl_fcst_6hr_L2: string, fl_obs_cld_L1: string, fl_obs_cld_L2: string, id: string, info_source: string, issued_date: string, issued_time: string, name: string, no_id_satelite: bigint, nxt_date: string, nxt_time: string, referal: bigint, report_id: string, v_id: string, vaac_obs: string]"
            ]
          },
          "metadata": {},
          "execution_count": 19
        }
      ],
      "source": [
        "vaacDF = spark.read.json(data_path+'vaac_total_line.json')\n",
        "vaacDF.cache()"
      ]
    },
    {
      "cell_type": "code",
      "execution_count": null,
      "metadata": {
        "colab": {
          "base_uri": "https://localhost:8080/"
        },
        "id": "o2uo91xbBqvh",
        "outputId": "54710265-fa7c-414c-ac26-e487dba7b7d7"
      },
      "outputs": [
        {
          "output_type": "stream",
          "name": "stdout",
          "text": [
            "root\n",
            " |-- colour_code: string (nullable = true)\n",
            " |-- confirmed: long (nullable = true)\n",
            " |-- file_name: string (nullable = true)\n",
            " |-- fl_eruption_L1: string (nullable = true)\n",
            " |-- fl_eruption_L2: string (nullable = true)\n",
            " |-- fl_fcst_12hr_L1: string (nullable = true)\n",
            " |-- fl_fcst_12hr_L2: string (nullable = true)\n",
            " |-- fl_fcst_18hr_L1: string (nullable = true)\n",
            " |-- fl_fcst_18hr_L2: string (nullable = true)\n",
            " |-- fl_fcst_6hr_L1: string (nullable = true)\n",
            " |-- fl_fcst_6hr_L2: string (nullable = true)\n",
            " |-- fl_obs_cld_L1: string (nullable = true)\n",
            " |-- fl_obs_cld_L2: string (nullable = true)\n",
            " |-- id: string (nullable = true)\n",
            " |-- info_source: string (nullable = true)\n",
            " |-- issued_date: string (nullable = true)\n",
            " |-- issued_time: string (nullable = true)\n",
            " |-- name: string (nullable = true)\n",
            " |-- no_id_satelite: long (nullable = true)\n",
            " |-- nxt_date: string (nullable = true)\n",
            " |-- nxt_time: string (nullable = true)\n",
            " |-- referal: long (nullable = true)\n",
            " |-- report_id: string (nullable = true)\n",
            " |-- v_id: string (nullable = true)\n",
            " |-- vaac_obs: string (nullable = true)\n",
            "\n"
          ]
        }
      ],
      "source": [
        "vaacDF.printSchema()"
      ]
    },
    {
      "cell_type": "markdown",
      "metadata": {
        "id": "khx6SbFYBqvi"
      },
      "source": [
        "Now we are going to create a new dataframe (df) by filtering out the rows which we dont have an issued date. And later from these rows, we are going to visualize the id of the volcano, colour and date values. "
      ]
    },
    {
      "cell_type": "code",
      "execution_count": null,
      "metadata": {
        "scrolled": true,
        "colab": {
          "base_uri": "https://localhost:8080/"
        },
        "id": "q1thuMQGBqvi",
        "outputId": "3183e18e-7b60-48db-c164-20a4cb1e5ef8"
      },
      "outputs": [
        {
          "output_type": "stream",
          "name": "stdout",
          "text": [
            "+------+--------+-----------+-------------------+\n",
            "|  v_id|    name|colour_code|               date|\n",
            "+------+--------+-----------+-------------------+\n",
            "|252010| LANGILA|       null|2004-12-17 04:08:00|\n",
            "|252010| LANGILA|       null|2004-12-17 09:49:00|\n",
            "|252010| LANGILA|       null|2004-12-17 16:17:00|\n",
            "|252010| LANGILA|       null|2004-12-17 22:03:00|\n",
            "|252010| LANGILA|       null|2004-12-17 22:18:00|\n",
            "|252010| LANGILA|       null|2004-12-18 03:52:00|\n",
            "|252010| LANGILA|       null|2004-12-18 09:52:00|\n",
            "|252010| LANGILA|     orange|2005-05-03 02:43:00|\n",
            "|252010| LANGILA|     orange|2005-05-03 22:07:00|\n",
            "|252010| LANGILA|     orange|2005-05-04 22:11:00|\n",
            "|252010| LANGILA|     orange|2005-05-05 03:58:00|\n",
            "|252010| LANGILA|     orange|2005-05-05 07:07:00|\n",
            "|252010| LANGILA|     orange|2005-05-05 12:47:00|\n",
            "|252010| LANGILA|     orange|2005-05-05 18:44:00|\n",
            "|252010| LANGILA|     orange|2005-05-06 01:02:00|\n",
            "|252010| LANGILA|     orange|2005-05-06 06:38:00|\n",
            "|252010| LANGILA|     orange|2005-05-06 12:59:00|\n",
            "|252010| LANGILA|     orange|2005-05-06 18:52:00|\n",
            "|252010| LANGILA|     orange|2005-05-07 01:36:00|\n",
            "|252010| LANGILA|     orange|2005-05-07 06:31:00|\n",
            "+------+--------+-----------+-------------------+\n",
            "only showing top 20 rows\n",
            "\n"
          ]
        }
      ],
      "source": [
        "from pyspark.sql.functions import col, concat, to_timestamp\n",
        "from pyspark.sql.types import TimestampType\n",
        "df = (vaacDF \n",
        "        .where(col('issued_date').isNotNull())\n",
        "        .select('v_id','name', 'colour_code', concat('issued_date', 'issued_time').alias('date'))\n",
        "        .withColumn('date', to_timestamp('date', 'yyyyMMddHHmm').cast(TimestampType()).alias('date'))\n",
        "     )\n",
        "df.show()"
      ]
    },
    {
      "cell_type": "markdown",
      "metadata": {
        "id": "ip-x0DwuBqvi"
      },
      "source": [
        "Next, we are going to create another dataframe (codedf) by replacing red, orange, yellow and green  by  \"4\",\"3\",\"2\",\"1\" respectively. "
      ]
    },
    {
      "cell_type": "code",
      "execution_count": null,
      "metadata": {
        "colab": {
          "base_uri": "https://localhost:8080/"
        },
        "id": "tj8AdqWPBqvi",
        "outputId": "66d6d2f5-6b8a-4a74-aeab-ca89e66f8aab"
      },
      "outputs": [
        {
          "output_type": "stream",
          "name": "stdout",
          "text": [
            "+------+--------+-----------+-------------------+\n",
            "|  v_id|    name|colour_code|               date|\n",
            "+------+--------+-----------+-------------------+\n",
            "|252010| LANGILA|          3|2005-05-03 02:43:00|\n",
            "|252010| LANGILA|          3|2005-05-03 22:07:00|\n",
            "|252010| LANGILA|          3|2005-05-04 22:11:00|\n",
            "|252010| LANGILA|          3|2005-05-05 03:58:00|\n",
            "|252010| LANGILA|          3|2005-05-05 07:07:00|\n",
            "|252010| LANGILA|          3|2005-05-05 12:47:00|\n",
            "|252010| LANGILA|          3|2005-05-05 18:44:00|\n",
            "|252010| LANGILA|          3|2005-05-06 01:02:00|\n",
            "|252010| LANGILA|          3|2005-05-06 06:38:00|\n",
            "|252010| LANGILA|          3|2005-05-06 12:59:00|\n",
            "|252010| LANGILA|          3|2005-05-06 18:52:00|\n",
            "|252010| LANGILA|          3|2005-05-07 01:36:00|\n",
            "|252010| LANGILA|          3|2005-05-07 06:31:00|\n",
            "|252010| LANGILA|          3|2005-05-07 12:27:00|\n",
            "|252010| LANGILA|          3|2005-05-07 18:22:00|\n",
            "|252010| LANGILA|          3|2005-05-08 00:35:00|\n",
            "|252010| LANGILA|          3|2005-06-08 09:48:00|\n",
            "|252010| LANGILA|          2|2005-06-08 15:41:00|\n",
            "|252010| LANGILA|          2|2005-06-08 21:54:00|\n",
            "|252010| LANGILA|          2|2005-06-09 04:17:00|\n",
            "+------+--------+-----------+-------------------+\n",
            "only showing top 20 rows\n",
            "\n"
          ]
        }
      ],
      "source": [
        "from pyspark.sql.types import IntegerType\n",
        "codedf = (df\n",
        "              .where(col('colour_code').isNotNull())\n",
        "              .replace(['red', 'orange', 'yellow', 'green'], [\"4\", \"3\", \"2\", \"1\"], 'colour_code')\n",
        "              .withColumn('colour_code', col('colour_code').cast(IntegerType()))\n",
        "         )\n",
        "codedf.show()"
      ]
    },
    {
      "cell_type": "markdown",
      "metadata": {
        "id": "6XSy29xLBqvk"
      },
      "source": [
        "Now, we want to visualise all the different volcano ids (v_id) that we have in the codedf dataframe."
      ]
    },
    {
      "cell_type": "code",
      "execution_count": null,
      "metadata": {
        "colab": {
          "base_uri": "https://localhost:8080/"
        },
        "id": "hofp0JfIBqvk",
        "outputId": "648bdabb-d446-45fa-e122-ebc5eedfd82f"
      },
      "outputs": [
        {
          "output_type": "stream",
          "name": "stdout",
          "text": [
            "['0501-08', '0502-', '241040', '261080', '354006', '263350', '357080', '0502-14', '355100', '311240', '0501-07', '0607-04', '372020', '0505-01', '0502-09', '264150', '263280', '266030', '300260', '0606-13', '300270', '268060', '262000', '0203-03', '252140', '0501-02', '300250', '357150', '264030', '0502-07', '1256', '263250', '0501-03', '311160', '0603-22', '357091', '0502-11', '266100', '264050', '0502-08', '252010', '357090', '354020', '0608-06', '1507-12', '0607-01', '1101-36', '263340', '313030', '264100', '233020', '255020', '384010', '0601-23', '267020', '0601-16', '268010', '0603-14', '0601-14', '1102-07', '0604-16', '0603-09', '251020', '358020', '300230', '264270', '312170', '251030', '263180', '260010', '311130', '252120', '373010', '290240', '264180', '263170', '264260', '357120', '263310', 'xxxx', '263300', '261170', '31129', '268030', '0603-18', '268040']\n"
          ]
        }
      ],
      "source": [
        "ids = codedf.select('v_id').distinct().rdd.flatMap(lambda x: x).collect()\n",
        "print(ids)"
      ]
    },
    {
      "cell_type": "markdown",
      "metadata": {
        "id": "z1697tzkBqvk"
      },
      "source": [
        "We are going to create a pandas dataframe (data) from the codedf dataframe. In this dataframe we will store the v_ids which are equal 252010 (so we select a particular volcano), and we will store the date and colour_code information. "
      ]
    },
    {
      "cell_type": "code",
      "execution_count": null,
      "metadata": {
        "colab": {
          "base_uri": "https://localhost:8080/"
        },
        "id": "0Lr6Tzb6Bqvk",
        "outputId": "1ecd0c53-eefa-4e54-d506-aac8e7c0b52a"
      },
      "outputs": [
        {
          "output_type": "stream",
          "name": "stdout",
          "text": [
            "                   date  colour_code\n",
            "0   2005-05-03 02:43:00            3\n",
            "1   2005-05-03 22:07:00            3\n",
            "2   2005-05-04 22:11:00            3\n",
            "3   2005-05-05 03:58:00            3\n",
            "4   2005-05-05 07:07:00            3\n",
            "..                  ...          ...\n",
            "274 2017-01-25 03:45:00            3\n",
            "275 2017-01-25 09:30:00            3\n",
            "276 2017-01-25 15:30:00            3\n",
            "277 2017-01-25 21:30:00            3\n",
            "278 2017-01-26 03:30:00            3\n",
            "\n",
            "[279 rows x 2 columns]\n"
          ]
        }
      ],
      "source": [
        "import pandas\n",
        "data = codedf.where('v_id == \"252010\"').select('date', 'colour_code').toPandas()\n",
        "print(data)"
      ]
    },
    {
      "cell_type": "markdown",
      "metadata": {
        "id": "COYVS7s7Bqvl"
      },
      "source": [
        "Finally, we print the dataframe for visualzing the change of colours over the years. "
      ]
    },
    {
      "cell_type": "code",
      "execution_count": null,
      "metadata": {
        "id": "1CvEdOYrBqvl"
      },
      "outputs": [],
      "source": [
        "import matplotlib\n",
        "import matplotlib.pyplot as plt\n",
        "%matplotlib inline\n"
      ]
    },
    {
      "cell_type": "code",
      "source": [
        "plt.style.use('classic')"
      ],
      "metadata": {
        "id": "Jj2qW3OwDQd3"
      },
      "execution_count": null,
      "outputs": []
    },
    {
      "cell_type": "code",
      "execution_count": null,
      "metadata": {
        "scrolled": true,
        "colab": {
          "base_uri": "https://localhost:8080/",
          "height": 440
        },
        "id": "Rm55PJiBBqvl",
        "outputId": "29970014-c3a2-4317-8456-bb28bf51c88d"
      },
      "outputs": [
        {
          "output_type": "display_data",
          "data": {
            "text/plain": [
              "<Figure size 640x480 with 1 Axes>"
            ],
            "image/png": "[encoded data removed]"
          },
          "metadata": {}
        }
      ],
      "source": [
        "plt.scatter(data['date'].tolist(), data['colour_code'].tolist())\n",
        "plt.yticks(range(0,5), ('', 'green', 'yellow', 'orange', 'red') )\n",
        "\n",
        "plt.show()"
      ]
    },
    {
      "cell_type": "markdown",
      "metadata": {
        "id": "peggftGDBqvl"
      },
      "source": [
        "We can also analyse the frequency of reports of a particu"
      ]
    },
    {
      "cell_type": "code",
      "execution_count": null,
      "metadata": {
        "colab": {
          "base_uri": "https://localhost:8080/",
          "height": 369
        },
        "id": "1Wgl0ocnBqvm",
        "outputId": "fdc06b26-2917-442a-d38d-f9eb798db773"
      },
      "outputs": [
        {
          "output_type": "execute_result",
          "data": {
            "text/plain": [
              "   issued_date  count\n",
              "0     20141008      4\n",
              "1     20140929      2\n",
              "2     20141006      5\n",
              "3     20141001      4\n",
              "4     20141004      6\n",
              "5     20141007      5\n",
              "6     20141009      5\n",
              "7     20141002      4\n",
              "8     20141010      3\n",
              "9     20140930      4\n",
              "10    20141003      5\n",
              "11    20141005      4"
            ],
            "text/html": [
              "\n",
              "  <div id=\"df-95cdc076-1b8e-49d0-95b8-7185469b7249\">\n",
              "    <div class=\"colab-df-container\">\n",
              "      <div>\n",
              "<style scoped>\n",
              "    .dataframe tbody tr th:only-of-type {\n",
              "        vertical-align: middle;\n",
              "    }\n",
              "\n",
              "    .dataframe tbody tr th {\n",
              "        vertical-align: top;\n",
              "    }\n",
              "\n",
              "    .dataframe thead th {\n",
              "        text-align: right;\n",
              "    }\n",
              "</style>\n",
              "<table border=\"1\" class=\"dataframe\">\n",
              "  <thead>\n",
              "    <tr style=\"text-align: right;\">\n",
              "      <th></th>\n",
              "      <th>issued_date</th>\n",
              "      <th>count</th>\n",
              "    </tr>\n",
              "  </thead>\n",
              "  <tbody>\n",
              "    <tr>\n",
              "      <th>0</th>\n",
              "      <td>20141008</td>\n",
              "      <td>4</td>\n",
              "    </tr>\n",
              "    <tr>\n",
              "      <th>1</th>\n",
              "      <td>20140929</td>\n",
              "      <td>2</td>\n",
              "    </tr>\n",
              "    <tr>\n",
              "      <th>2</th>\n",
              "      <td>20141006</td>\n",
              "      <td>5</td>\n",
              "    </tr>\n",
              "    <tr>\n",
              "      <th>3</th>\n",
              "      <td>20141001</td>\n",
              "      <td>4</td>\n",
              "    </tr>\n",
              "    <tr>\n",
              "      <th>4</th>\n",
              "      <td>20141004</td>\n",
              "      <td>6</td>\n",
              "    </tr>\n",
              "    <tr>\n",
              "      <th>5</th>\n",
              "      <td>20141007</td>\n",
              "      <td>5</td>\n",
              "    </tr>\n",
              "    <tr>\n",
              "      <th>6</th>\n",
              "      <td>20141009</td>\n",
              "      <td>5</td>\n",
              "    </tr>\n",
              "    <tr>\n",
              "      <th>7</th>\n",
              "      <td>20141002</td>\n",
              "      <td>4</td>\n",
              "    </tr>\n",
              "    <tr>\n",
              "      <th>8</th>\n",
              "      <td>20141010</td>\n",
              "      <td>3</td>\n",
              "    </tr>\n",
              "    <tr>\n",
              "      <th>9</th>\n",
              "      <td>20140930</td>\n",
              "      <td>4</td>\n",
              "    </tr>\n",
              "    <tr>\n",
              "      <th>10</th>\n",
              "      <td>20141003</td>\n",
              "      <td>5</td>\n",
              "    </tr>\n",
              "    <tr>\n",
              "      <th>11</th>\n",
              "      <td>20141005</td>\n",
              "      <td>4</td>\n",
              "    </tr>\n",
              "  </tbody>\n",
              "</table>\n",
              "</div>\n",
              "      <button class=\"colab-df-convert\" onclick=\"convertToInteractive('df-95cdc076-1b8e-49d0-95b8-7185469b7249')\"\n",
              "              title=\"Convert this dataframe to an interactive table.\"\n",
              "              style=\"display:none;\">\n",
              "        \n",
              "  <svg xmlns=\"http://www.w3.org/2000/svg\" height=\"24px\"viewBox=\"0 0 24 24\"\n",
              "       width=\"24px\">\n",
              "    <path d=\"M0 0h24v24H0V0z\" fill=\"none\"/>\n",
              "    <path d=\"M18.56 5.44l.94 2.06.94-2.06 2.06-.94-2.06-.94-.94-2.06-.94 2.06-2.06.94zm-11 1L8.5 8.5l.94-2.06 2.06-.94-2.06-.94L8.5 2.5l-.94 2.06-2.06.94zm10 10l.94 2.06.94-2.06 2.06-.94-2.06-.94-.94-2.06-.94 2.06-2.06.94z\"/><path d=\"M17.41 7.96l-1.37-1.37c-.4-.4-.92-.59-1.43-.59-.52 0-1.04.2-1.43.59L10.3 9.45l-7.72 7.72c-.78.78-.78 2.05 0 2.83L4 21.41c.39.39.9.59 1.41.59.51 0 1.02-.2 1.41-.59l7.78-7.78 2.81-2.81c.8-.78.8-2.07 0-2.86zM5.41 20L4 18.59l7.72-7.72 1.47 1.35L5.41 20z\"/>\n",
              "  </svg>\n",
              "      </button>\n",
              "      \n",
              "  <style>\n",
              "    .colab-df-container {\n",
              "      display:flex;\n",
              "      flex-wrap:wrap;\n",
              "      gap: 12px;\n",
              "    }\n",
              "\n",
              "    .colab-df-convert {\n",
              "      background-color: #E8F0FE;\n",
              "      border: none;\n",
              "      border-radius: 50%;\n",
              "      cursor: pointer;\n",
              "      display: none;\n",
              "      fill: #1967D2;\n",
              "      height: 32px;\n",
              "      padding: 0 0 0 0;\n",
              "      width: 32px;\n",
              "    }\n",
              "\n",
              "    .colab-df-convert:hover {\n",
              "      background-color: #E2EBFA;\n",
              "      box-shadow: 0px 1px 2px rgba(60, 64, 67, 0.3), 0px 1px 3px 1px rgba(60, 64, 67, 0.15);\n",
              "      fill: #174EA6;\n",
              "    }\n",
              "\n",
              "    [theme=dark] .colab-df-convert {\n",
              "      background-color: #3B4455;\n",
              "      fill: #D2E3FC;\n",
              "    }\n",
              "\n",
              "    [theme=dark] .colab-df-convert:hover {\n",
              "      background-color: #434B5C;\n",
              "      box-shadow: 0px 1px 3px 1px rgba(0, 0, 0, 0.15);\n",
              "      filter: drop-shadow(0px 1px 2px rgba(0, 0, 0, 0.3));\n",
              "      fill: #FFFFFF;\n",
              "    }\n",
              "  </style>\n",
              "\n",
              "      <script>\n",
              "        const buttonEl =\n",
              "          document.querySelector('#df-95cdc076-1b8e-49d0-95b8-7185469b7249 button.colab-df-convert');\n",
              "        buttonEl.style.display =\n",
              "          google.colab.kernel.accessAllowed ? 'block' : 'none';\n",
              "\n",
              "        async function convertToInteractive(key) {\n",
              "          const element = document.querySelector('#df-95cdc076-1b8e-49d0-95b8-7185469b7249');\n",
              "          const dataTable =\n",
              "            await google.colab.kernel.invokeFunction('convertToInteractive',\n",
              "                                                     [key], {});\n",
              "          if (!dataTable) return;\n",
              "\n",
              "          const docLinkHtml = 'Like what you see? Visit the ' +\n",
              "            '<a target=\"_blank\" href=https://colab.research.google.com/notebooks/data_table.ipynb>data table notebook</a>'\n",
              "            + ' to learn more about interactive tables.';\n",
              "          element.innerHTML = '';\n",
              "          dataTable['output_type'] = 'display_data';\n",
              "          await google.colab.output.renderOutput(dataTable, element);\n",
              "          const docLink = document.createElement('div');\n",
              "          docLink.innerHTML = docLinkHtml;\n",
              "          element.appendChild(docLink);\n",
              "        }\n",
              "      </script>\n",
              "    </div>\n",
              "  </div>\n",
              "  "
            ]
          },
          "metadata": {},
          "execution_count": 13
        }
      ],
      "source": [
        "frequency = vaacDF.filter('v_id == 283040').select('v_id','issued_date').groupBy('issued_date').count()\n",
        "fd = frequency.toPandas()\n",
        "fd"
      ]
    },
    {
      "cell_type": "code",
      "execution_count": null,
      "metadata": {
        "colab": {
          "base_uri": "https://localhost:8080/",
          "height": 503
        },
        "id": "EuaQaxzbBqvm",
        "outputId": "9a434297-573b-4d9d-a307-4606fb84640e"
      },
      "outputs": [
        {
          "output_type": "display_data",
          "data": {
            "text/plain": [
              "<Figure size 640x480 with 1 Axes>"
            ],
            "image/png": "[encoded data removed]"
          },
          "metadata": {}
        }
      ],
      "source": [
        "ax = fd.plot.bar('issued_date', 'count')\n",
        "ax.set_title('Frequency of vaac reports for 283040')\n",
        "ax.legend(numpoints=1, loc='upper left')\n",
        "ax.set_xlabel('Date')\n",
        "ax.set_ylabel('Frequency', color='g')\n",
        "plt.setp(ax.get_xticklabels(), rotation=30, horizontalalignment='right')\n",
        "plt.show()"
      ]
    }
  ],
  "metadata": {
    "kernelspec": {
      "display_name": "Python 3 (ipykernel)",
      "language": "python",
      "name": "python3"
    },
    "language_info": {
      "codemirror_mode": {
        "name": "ipython",
        "version": 3
      },
      "file_extension": ".py",
      "mimetype": "text/x-python",
      "name": "python",
      "nbconvert_exporter": "python",
      "pygments_lexer": "ipython3",
      "version": "3.9.7"
    },
    "colab": {
      "name": "Copy of Volcanic data.ipynb",
      "provenance": [],
      "include_colab_link": true
    }
  },
  "nbformat": 4,
  "nbformat_minor": 0
}