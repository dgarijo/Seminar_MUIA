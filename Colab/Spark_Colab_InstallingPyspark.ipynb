{
  "nbformat": 4,
  "nbformat_minor": 0,
  "metadata": {
    "colab": {
      "name": "Spark_Colab_InstallingPyspark.ipynb",
      "provenance": [],
      "collapsed_sections": [],
      "toc_visible": true
    },
    "kernelspec": {
      "name": "python3",
      "display_name": "Python 3"
    },
    "language_info": {
      "name": "python"
    }
  },
  "cells": [
    {
      "cell_type": "markdown",
      "source": [
        "# Mouting Drive in Google Colab"
      ],
      "metadata": {
        "id": "BXM2E63BHJms"
      }
    },
    {
      "cell_type": "code",
      "execution_count": null,
      "metadata": {
        "colab": {
          "base_uri": "https://localhost:8080/"
        },
        "id": "eSbb-qfwW0G3",
        "outputId": "dd4ff7be-d38d-44cb-8c2b-f36bfcb39ed0"
      },
      "outputs": [
        {
          "output_type": "stream",
          "name": "stdout",
          "text": [
            "Drive already mounted at /content/drive; to attempt to forcibly remount, call drive.mount(\"/content/drive\", force_remount=True).\n"
          ]
        }
      ],
      "source": [
        "from google.colab import drive\n",
        "drive.mount('/content/drive')"
      ]
    },
    {
      "cell_type": "markdown",
      "source": [
        "# Installing Apache Spark"
      ],
      "metadata": {
        "id": "cCi91jDVFybZ"
      }
    },
    {
      "cell_type": "code",
      "source": [
        "!apt-get install openjdk-11-jdk-headless -qq > /dev/null\n",
        "!wget -q https://dlcdn.apache.org/spark/spark-3.2.1/spark-3.2.1-bin-hadoop3.2.tgz\n",
        "!tar xf spark-3.2.1-bin-hadoop3.2.tgz\n",
        "!pip install -q findspark\n",
        "!pip install pyspark"
      ],
      "metadata": {
        "colab": {
          "base_uri": "https://localhost:8080/"
        },
        "id": "Xt2zOx2WfRo0",
        "outputId": "459cc065-55ac-4ae9-e329-955878aa5c10"
      },
      "execution_count": null,
      "outputs": [
        {
          "output_type": "stream",
          "name": "stdout",
          "text": [
            "Looking in indexes: https://pypi.org/simple, https://us-python.pkg.dev/colab-wheels/public/simple/\n",
            "Requirement already satisfied: pyspark in /usr/local/lib/python3.7/dist-packages (3.3.0)\n",
            "Requirement already satisfied: py4j==0.10.9.5 in /usr/local/lib/python3.7/dist-packages (from pyspark) (0.10.9.5)\n"
          ]
        }
      ]
    },
    {
      "cell_type": "code",
      "source": [
        "!ls"
      ],
      "metadata": {
        "colab": {
          "base_uri": "https://localhost:8080/"
        },
        "id": "dtpWkOP8ghmM",
        "outputId": "5c091aa8-8aae-40b1-a672-f27b5cdad9db"
      },
      "execution_count": null,
      "outputs": [
        {
          "output_type": "stream",
          "name": "stdout",
          "text": [
            "drive\t\t\t\t spark-3.2.1-bin-hadoop3.2.tgz.2\n",
            "sample_data\t\t\t spark-3.2.1-bin-hadoop3.2.tgz.3\n",
            "spark-3.2.1-bin-hadoop3.2\t spark-3.2.1-bin-hadoop3.2.tgz.4\n",
            "spark-3.2.1-bin-hadoop3.2.tgz\t spark-3.2.1-bin-hadoop3.2.tgz.5\n",
            "spark-3.2.1-bin-hadoop3.2.tgz.1\n"
          ]
        }
      ]
    },
    {
      "cell_type": "code",
      "source": [
        "import os\n",
        "os.environ[\"JAVA_HOME\"] = \"/usr/lib/jvm/java-11-openjdk-amd64\"\n",
        "os.environ[\"SPARK_HOME\"] = \"/content/spark-3.2.1-bin-hadoop3.2\"\n",
        "\n",
        "import findspark\n",
        "findspark.init()\n",
        "findspark.find()"
      ],
      "metadata": {
        "colab": {
          "base_uri": "https://localhost:8080/",
          "height": 36
        },
        "id": "0MVlmq19gMcT",
        "outputId": "16c97046-f34e-4c5b-8e1d-84fd91254c45"
      },
      "execution_count": null,
      "outputs": [
        {
          "output_type": "execute_result",
          "data": {
            "text/plain": [
              "'/content/spark-3.2.1-bin-hadoop3.2'"
            ],
            "application/vnd.google.colaboratory.intrinsic+json": {
              "type": "string"
            }
          },
          "metadata": {},
          "execution_count": 2
        }
      ]
    },
    {
      "cell_type": "markdown",
      "source": [
        "# Creating an Apache Spark section"
      ],
      "metadata": {
        "id": "55fnH6fwFzgQ"
      }
    },
    {
      "cell_type": "code",
      "source": [
        "from pyspark.sql import SparkSession\n",
        "spark = SparkSession.builder \\\n",
        "    .master(\"local[*]\") \\\n",
        "    .appName(\"Learning_Spark\") \\\n",
        "    .getOrCreate()"
      ],
      "metadata": {
        "id": "qOo9iYya_X_t"
      },
      "execution_count": null,
      "outputs": []
    },
    {
      "cell_type": "code",
      "source": [
        "spark"
      ],
      "metadata": {
        "colab": {
          "base_uri": "https://localhost:8080/",
          "height": 222
        },
        "id": "c80x16d_BnwI",
        "outputId": "e8a063aa-f87e-4f74-8aca-65691be59599"
      },
      "execution_count": null,
      "outputs": [
        {
          "output_type": "execute_result",
          "data": {
            "text/plain": [
              "<pyspark.sql.session.SparkSession at 0x7feb543f6750>"
            ],
            "text/html": [
              "\n",
              "            <div>\n",
              "                <p><b>SparkSession - in-memory</b></p>\n",
              "                \n",
              "        <div>\n",
              "            <p><b>SparkContext</b></p>\n",
              "\n",
              "            <p><a href=\"http://f3e9b8f23fde:4040\">Spark UI</a></p>\n",
              "\n",
              "            <dl>\n",
              "              <dt>Version</dt>\n",
              "                <dd><code>v3.2.1</code></dd>\n",
              "              <dt>Master</dt>\n",
              "                <dd><code>local[*]</code></dd>\n",
              "              <dt>AppName</dt>\n",
              "                <dd><code>Learning_Spark</code></dd>\n",
              "            </dl>\n",
              "        </div>\n",
              "        \n",
              "            </div>\n",
              "        "
            ]
          },
          "metadata": {},
          "execution_count": 5
        }
      ]
    },
    {
      "cell_type": "code",
      "source": [
        "!pwd"
      ],
      "metadata": {
        "colab": {
          "base_uri": "https://localhost:8080/"
        },
        "id": "HYQk8K1_CW7F",
        "outputId": "f27727d9-19af-4872-afbf-a86c7091204b"
      },
      "execution_count": null,
      "outputs": [
        {
          "output_type": "stream",
          "name": "stdout",
          "text": [
            "/content\n"
          ]
        }
      ]
    },
    {
      "cell_type": "markdown",
      "source": [
        "# Creating my first RDDs"
      ],
      "metadata": {
        "id": "DVqMudWkGGRk"
      }
    },
    {
      "cell_type": "code",
      "source": [
        "file_path=\"/content/drive/MyDrive/Seminar_MUIA/walkthrough_examples/\"\n",
        "sc = spark.sparkContext\n",
        "input_rdds = sc.textFile(file_path+\"inputfile.txt\")\n",
        "input_rdds.count()"
      ],
      "metadata": {
        "colab": {
          "base_uri": "https://localhost:8080/"
        },
        "id": "kzxhuDlUg7oP",
        "outputId": "a0ac057a-5fa2-470c-bb94-4d42b3b9e6b8"
      },
      "execution_count": null,
      "outputs": [
        {
          "output_type": "execute_result",
          "data": {
            "text/plain": [
              "5"
            ]
          },
          "metadata": {},
          "execution_count": 7
        }
      ]
    },
    {
      "cell_type": "markdown",
      "source": [
        "# WordCount"
      ],
      "metadata": {
        "id": "CYfsOaRcGToB"
      }
    },
    {
      "cell_type": "code",
      "source": [
        "wordCounts = input_rdd.flatMap(lambda line: line.split()).map(lambda word: (word, 1)).reduceByKey(lambda a, b: a+b)\n",
        "output=wordCounts.collect()\n",
        "for (word, count) in output:\n",
        "  print(\"%s: %i\" % (word, count))"
      ],
      "metadata": {
        "colab": {
          "base_uri": "https://localhost:8080/"
        },
        "id": "tiQf_D84Df1o",
        "outputId": "5b7cdd3a-bebd-4687-9837-fa3530dc9943"
      },
      "execution_count": null,
      "outputs": [
        {
          "output_type": "stream",
          "name": "stdout",
          "text": [
            "this: 1\n",
            "is: 1\n",
            "flatmap: 1\n",
            "learning: 1\n",
            "Enjoy: 1\n",
            "part: 1\n",
            "for: 1\n",
            "beginners: 1\n",
            "to: 1\n",
            "learn: 1\n",
            "spark: 1\n",
            "and: 2\n",
            "the: 1\n",
            "difference: 1\n",
            "between: 1\n",
            "map: 1\n",
            "happy: 1\n"
          ]
        }
      ]
    },
    {
      "cell_type": "markdown",
      "source": [
        "# Spark Pi"
      ],
      "metadata": {
        "id": "9a1hlHlJHZlA"
      }
    },
    {
      "cell_type": "code",
      "source": [
        "from random import random\n",
        "from operator import add\n",
        "partitions = 10\n",
        "n = 100000 * partitions\n",
        "\n",
        "def f(_: int) -> float:\n",
        "        x = random() * 2 - 1\n",
        "        y = random() * 2 - 1\n",
        "        return 1 if x ** 2 + y ** 2 <= 1 else 0\n",
        "\n",
        "count = sc.parallelize(range(1, n + 1), partitions).map(f).reduce(add)\n",
        "print(\"Pi is roughly %f\" % (4.0 * count / n))\n",
        "\n",
        "    "
      ],
      "metadata": {
        "colab": {
          "base_uri": "https://localhost:8080/"
        },
        "id": "TwJeDr-aHn1S",
        "outputId": "dc965c5a-f25e-4720-b5f5-21b1611613bd"
      },
      "execution_count": 10,
      "outputs": [
        {
          "output_type": "stream",
          "name": "stdout",
          "text": [
            "Pi is roughly 3.134880\n"
          ]
        }
      ]
    },
    {
      "cell_type": "markdown",
      "source": [
        "# Lab 1"
      ],
      "metadata": {
        "id": "WcpjwNXaH_zW"
      }
    },
    {
      "cell_type": "code",
      "source": [
        ""
      ],
      "metadata": {
        "id": "1RF7vWppIlmR"
      },
      "execution_count": null,
      "outputs": []
    }
  ]
}